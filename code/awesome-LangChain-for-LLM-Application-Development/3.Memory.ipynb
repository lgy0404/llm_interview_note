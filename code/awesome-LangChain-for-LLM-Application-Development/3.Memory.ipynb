{
 "cells": [
  {
   "attachments": {},
   "cell_type": "markdown",
   "id": "a786c77c",
   "metadata": {},
   "source": [
    "# LangChain: Memory（记忆）\n",
    "当你与那些语言模型进行交互的时候，他们不会记得你之前和他进行的交流内容，这在我们构建一些应用程序（如聊天机器人）的时候，是一个很大的问题---显得不够智能！\n",
    "\n",
    "因此，在本节中我们将介绍LangChain 中的 **Memory(记忆)** 模块，即他是如何将先前的对话嵌入到语言模型中的，使其具有连续对话的能力\n",
    "\n",
    "当使用 LangChain 中的记忆组件时，他可以帮助保存和管理历史聊天消息，以及构建关于特定实体的知识。这些组件可以跨多轮对话存储信息，并允许在对话期间跟踪特定信息和上下文。  \n",
    "  \n",
    "LangChain 提供了多种记忆类型，包括：\n",
    "- ConversationBufferMemory\n",
    "- ConversationBufferWindowMemory\n",
    "- Entity Memory\n",
    "- Conversation Knowledge Graph Memory\n",
    "- ConversationSummaryMemory\n",
    "- ConversationSummaryBufferMemory\n",
    "- ConversationTokenBufferMemory\n",
    "- VectorStore-Backed Memory\n",
    "  \n",
    "缓冲区记忆允许保留最近的聊天消息，摘要记忆则提供了对整个对话的摘要。实体记忆则允许在多轮对话中保留有关特定实体的信息。\n",
    "  \n",
    "这些记忆组件都是**模块化**的，可与其他组件**组合使用**，从而**增强机器人的对话管理能力**。Memory(记忆)模块可以通过简单的API调用来访问和更新，允许开发人员更轻松地实现**对话历史记录的管理和维护**。\n",
    "  \n",
    "此次课程主要介绍其中四种记忆模块，其他模块可查看文档学习。\n",
    "\n",
    "## 大纲\n",
    "* ConversationBufferMemory（对话缓存记忆）\n",
    "* ConversationBufferWindowMemory（对话缓存窗口记忆）\n",
    "* ConversationTokenBufferMemory（对话令牌缓存记忆）\n",
    "* ConversationSummaryBufferMemory（对话摘要缓存记忆）"
   ]
  },
  {
   "attachments": {},
   "cell_type": "markdown",
   "id": "7e10db6f",
   "metadata": {},
   "source": [
    "在LangChain中，Memory指的是大语言模型（LLM）的短期记忆。为什么是短期记忆？那是因为LLM训练好之后（获得了一些长期记忆），它的参数便不会因为用户的输入而发生改变。当用户与训练好的LLM进行对话时，LLM会暂时记住用户的输入和它已经生成的输出，以便预测之后的输出，而模型输出完毕后，它便会“遗忘”之前用户的输入和它的输出。因此，之前的这些信息只能称作为LLM的短期记忆。  \n",
    "  \n",
    "为了延长LLM短期记忆的保留时间，则需要借助一些外部存储方式来进行记忆，以便在用户与LLM对话中，LLM能够尽可能的知道用户与它所进行的历史对话信息。 "
   ]
  },
  {
   "attachments": {},
   "cell_type": "markdown",
   "id": "1297dcd5",
   "metadata": {},
   "source": [
    "## ConversationBufferMemory（对话缓存记忆）  \n",
    "  \n",
    "这种记忆允许存储消息，然后从变量中提取消息。"
   ]
  },
  {
   "attachments": {},
   "cell_type": "markdown",
   "id": "0768ca9b",
   "metadata": {},
   "source": [
    "### 1.首先，让我们导入相关的包和 OpenAI API 秘钥"
   ]
  },
  {
   "attachments": {},
   "cell_type": "markdown",
   "id": "d76f6ba7",
   "metadata": {},
   "source": [
    "### dotenv模块使用解析：  \n",
    "- 安装方式：pip install python-dotenv\n",
    "- load_dotenv()函数用于加载环境变量，\n",
    "- find_dotenv()函数用于寻找并定位.env文件的路径  \n",
    "- 接下来的代码 _ = load_dotenv(find_dotenv()) ，通过find_dotenv()函数找到.env文件的路径，并将其作为参数传递给load_dotenv()函数。load_dotenv()函数会读取该.env文件，并将其中的环境变量加载到当前的运行环境中  "
   ]
  },
  {
   "cell_type": "code",
   "execution_count": 1,
   "id": "a1f518f5",
   "metadata": {
    "height": 149
   },
   "outputs": [],
   "source": [
    "import os\n",
    "\n",
    "import warnings\n",
    "warnings.filterwarnings('ignore')\n",
    "\n",
    "api_key = os.environ.get('OPENAI_API_KEY')\n",
    "base_url = os.environ.get('OPENAI_BASE_URL')\n",
    "\n",
    "# 读取本地的.env文件，并将其中的环境变量加载到代码的运行环境中，以便在代码中可以直接使用这些环境变量\n",
    "# from dotenv import load_dotenv, find_dotenv\n",
    "# _ = load_dotenv(find_dotenv()) \n",
    "import sys\n",
    "sys.path.append(\"D:\\\\software\\\\conda\\\\envs\\\\torch2\\\\Lib\\\\site-packages\")"
   ]
  },
  {
   "cell_type": "code",
   "execution_count": 2,
   "id": "20ad6fe2",
   "metadata": {
    "height": 98
   },
   "outputs": [],
   "source": [
    "from langchain.chat_models import ChatOpenAI\n",
    "from langchain.chains import ConversationChain\n",
    "from langchain.memory import ConversationBufferMemory\n"
   ]
  },
  {
   "cell_type": "code",
   "execution_count": 13,
   "id": "88bdf13d",
   "metadata": {
    "height": 133
   },
   "outputs": [],
   "source": [
    "llm = ChatOpenAI(temperature=0.0,openai_api_key=api_key)  #temperature：预测下一个token时，概率越大的值就越平滑(平滑也就是让差异大的值之间的差异变得没那么大)，temperature值越小则生成的内容越稳定\n",
    "memory = ConversationBufferMemory()\n",
    "conversation = ConversationChain(   #新建一个对话链（关于链后面会提到更多的细节）\n",
    "    llm=llm, \n",
    "    memory = memory,\n",
    "    verbose=True   #查看Langchain实际上在做什么，设为FALSE的话只给出回答，看到不到下面绿色的内容\n",
    ")"
   ]
  },
  {
   "attachments": {},
   "cell_type": "markdown",
   "id": "dea83837",
   "metadata": {},
   "source": [
    "### 2.开始对话，第一轮"
   ]
  },
  {
   "attachments": {},
   "cell_type": "markdown",
   "id": "1a3b4c42",
   "metadata": {},
   "source": [
    "当我们运行predict时，生成了一些提示，如下所见，他说“以下是人类和AI之间友好的对话，AI健谈“等等，这实际上是LangChain生成的提示，以使系统进行希望和友好的对话，并且必须保存对话，并提示了当前已完成的模型链。"
   ]
  },
  {
   "cell_type": "code",
   "execution_count": 18,
   "id": "db24677d",
   "metadata": {
    "height": 47
   },
   "outputs": [
    {
     "name": "stdout",
     "output_type": "stream",
     "text": [
      "\n",
      "\n",
      "\u001b[1m> Entering new ConversationChain chain...\u001b[0m\n",
      "Prompt after formatting:\n",
      "\u001b[32;1m\u001b[1;3mThe following is a friendly conversation between a human and an AI. The AI is talkative and provides lots of specific details from its context. If the AI does not know the answer to a question, it truthfully says it does not know.\n",
      "\n",
      "Current conversation:\n",
      "Human: Hi, my name is guangyiliu\n",
      "AI: Hello guangyiliu! It's nice to meet you. How can I assist you today?\n",
      "Human: Hi, my name is guangyiliu\n",
      "AI: Yes, you mentioned that already. It's nice to meet you, guangyiliu! How can I assist you today?\n",
      "Human: Hi, my name is guangyiliu\n",
      "AI: Yes, you've mentioned your name is guangyiliu a few times now. Is there something specific you'd like to know or discuss today?\n",
      "Human: 我叫啥\n",
      "AI: 对不起，我不知道你的名字是什么。可以告诉我吗？\n",
      "Human: what is my name\n",
      "AI:\u001b[0m\n",
      "\n",
      "\u001b[1m> Finished chain.\u001b[0m\n"
     ]
    },
    {
     "data": {
      "text/plain": [
       "'Your name is guangyiliu.'"
      ]
     },
     "execution_count": 18,
     "metadata": {},
     "output_type": "execute_result"
    }
   ],
   "source": [
    "conversation.predict(input=\"what is my name\")"
   ]
  },
  {
   "cell_type": "code",
   "execution_count": 19,
   "id": "154561c9",
   "metadata": {},
   "outputs": [
    {
     "name": "stdout",
     "output_type": "stream",
     "text": [
      "\n",
      "\n",
      "\u001b[1m> Entering new ConversationChain chain...\u001b[0m\n",
      "Prompt after formatting:\n",
      "\u001b[32;1m\u001b[1;3mThe following is a friendly conversation between a human and an AI. The AI is talkative and provides lots of specific details from its context. If the AI does not know the answer to a question, it truthfully says it does not know.\n",
      "\n",
      "Current conversation:\n",
      "Human: Hi, my name is guangyiliu\n",
      "AI: Hello guangyiliu! It's nice to meet you. How can I assist you today?\n",
      "Human: Hi, my name is guangyiliu\n",
      "AI: Yes, you mentioned that already. It's nice to meet you, guangyiliu! How can I assist you today?\n",
      "Human: Hi, my name is guangyiliu\n",
      "AI: Yes, you've mentioned your name is guangyiliu a few times now. Is there something specific you'd like to know or discuss today?\n",
      "Human: 我叫啥\n",
      "AI: 对不起，我不知道你的名字是什么。可以告诉我吗？\n",
      "Human: what is my name\n",
      "AI: Your name is guangyiliu.\n",
      "Human: 你好, 我叫王熠明\n",
      "AI:\u001b[0m\n",
      "\n",
      "\u001b[1m> Finished chain.\u001b[0m\n"
     ]
    },
    {
     "data": {
      "text/plain": [
       "'你好，王熠明！很高兴认识你。有什么我可以帮助你的吗？'"
      ]
     },
     "execution_count": 19,
     "metadata": {},
     "output_type": "execute_result"
    }
   ],
   "source": [
    "#中文\n",
    "conversation.predict(input=\"你好, 我叫王熠明\")"
   ]
  },
  {
   "attachments": {},
   "cell_type": "markdown",
   "id": "e71564ad",
   "metadata": {},
   "source": [
    "### 3.第二轮对话"
   ]
  },
  {
   "attachments": {},
   "cell_type": "markdown",
   "id": "54d006bd",
   "metadata": {},
   "source": [
    "当我们进行下一轮对话时，他会保留上面的提示"
   ]
  },
  {
   "cell_type": "code",
   "execution_count": 20,
   "id": "cc3ef937",
   "metadata": {
    "height": 31
   },
   "outputs": [
    {
     "name": "stdout",
     "output_type": "stream",
     "text": [
      "\n",
      "\n",
      "\u001b[1m> Entering new ConversationChain chain...\u001b[0m\n",
      "Prompt after formatting:\n",
      "\u001b[32;1m\u001b[1;3mThe following is a friendly conversation between a human and an AI. The AI is talkative and provides lots of specific details from its context. If the AI does not know the answer to a question, it truthfully says it does not know.\n",
      "\n",
      "Current conversation:\n",
      "Human: Hi, my name is guangyiliu\n",
      "AI: Hello guangyiliu! It's nice to meet you. How can I assist you today?\n",
      "Human: Hi, my name is guangyiliu\n",
      "AI: Yes, you mentioned that already. It's nice to meet you, guangyiliu! How can I assist you today?\n",
      "Human: Hi, my name is guangyiliu\n",
      "AI: Yes, you've mentioned your name is guangyiliu a few times now. Is there something specific you'd like to know or discuss today?\n",
      "Human: 我叫啥\n",
      "AI: 对不起，我不知道你的名字是什么。可以告诉我吗？\n",
      "Human: what is my name\n",
      "AI: Your name is guangyiliu.\n",
      "Human: 你好, 我叫王熠明\n",
      "AI: 你好，王熠明！很高兴认识你。有什么我可以帮助你的吗？\n",
      "Human: What is 1+1?\n",
      "AI:\u001b[0m\n",
      "\n",
      "\u001b[1m> Finished chain.\u001b[0m\n"
     ]
    },
    {
     "data": {
      "text/plain": [
       "'1 + 1 equals 2.'"
      ]
     },
     "execution_count": 20,
     "metadata": {},
     "output_type": "execute_result"
    }
   ],
   "source": [
    "conversation.predict(input=\"What is 1+1?\")"
   ]
  },
  {
   "cell_type": "code",
   "execution_count": 21,
   "id": "63efc1bb",
   "metadata": {},
   "outputs": [
    {
     "name": "stdout",
     "output_type": "stream",
     "text": [
      "\n",
      "\n",
      "\u001b[1m> Entering new ConversationChain chain...\u001b[0m\n",
      "Prompt after formatting:\n",
      "\u001b[32;1m\u001b[1;3mThe following is a friendly conversation between a human and an AI. The AI is talkative and provides lots of specific details from its context. If the AI does not know the answer to a question, it truthfully says it does not know.\n",
      "\n",
      "Current conversation:\n",
      "Human: Hi, my name is guangyiliu\n",
      "AI: Hello guangyiliu! It's nice to meet you. How can I assist you today?\n",
      "Human: Hi, my name is guangyiliu\n",
      "AI: Yes, you mentioned that already. It's nice to meet you, guangyiliu! How can I assist you today?\n",
      "Human: Hi, my name is guangyiliu\n",
      "AI: Yes, you've mentioned your name is guangyiliu a few times now. Is there something specific you'd like to know or discuss today?\n",
      "Human: 我叫啥\n",
      "AI: 对不起，我不知道你的名字是什么。可以告诉我吗？\n",
      "Human: what is my name\n",
      "AI: Your name is guangyiliu.\n",
      "Human: 你好, 我叫王熠明\n",
      "AI: 你好，王熠明！很高兴认识你。有什么我可以帮助你的吗？\n",
      "Human: What is 1+1?\n",
      "AI: 1 + 1 equals 2.\n",
      "Human: 1+1等于多少？\n",
      "AI:\u001b[0m\n",
      "\n",
      "\u001b[1m> Finished chain.\u001b[0m\n"
     ]
    },
    {
     "data": {
      "text/plain": [
       "'1 + 1 等于 2。'"
      ]
     },
     "execution_count": 21,
     "metadata": {},
     "output_type": "execute_result"
    }
   ],
   "source": [
    "#中文\n",
    "conversation.predict(input=\"1+1等于多少？\")"
   ]
  },
  {
   "attachments": {},
   "cell_type": "markdown",
   "id": "33cb734b",
   "metadata": {},
   "source": [
    "### 4.第三轮对话"
   ]
  },
  {
   "attachments": {},
   "cell_type": "markdown",
   "id": "0393df3d",
   "metadata": {},
   "source": [
    "为了验证他是否记忆了前面的对话内容，我们让他回答前面已经说过的内容（我的名字），可以看到他确实输出了正确的名字，因此这个对话链随着往下进行会越来越长"
   ]
  },
  {
   "cell_type": "code",
   "execution_count": 22,
   "id": "acf3339a",
   "metadata": {
    "height": 31
   },
   "outputs": [
    {
     "name": "stdout",
     "output_type": "stream",
     "text": [
      "\n",
      "\n",
      "\u001b[1m> Entering new ConversationChain chain...\u001b[0m\n",
      "Prompt after formatting:\n",
      "\u001b[32;1m\u001b[1;3mThe following is a friendly conversation between a human and an AI. The AI is talkative and provides lots of specific details from its context. If the AI does not know the answer to a question, it truthfully says it does not know.\n",
      "\n",
      "Current conversation:\n",
      "Human: Hi, my name is guangyiliu\n",
      "AI: Hello guangyiliu! It's nice to meet you. How can I assist you today?\n",
      "Human: Hi, my name is guangyiliu\n",
      "AI: Yes, you mentioned that already. It's nice to meet you, guangyiliu! How can I assist you today?\n",
      "Human: Hi, my name is guangyiliu\n",
      "AI: Yes, you've mentioned your name is guangyiliu a few times now. Is there something specific you'd like to know or discuss today?\n",
      "Human: 我叫啥\n",
      "AI: 对不起，我不知道你的名字是什么。可以告诉我吗？\n",
      "Human: what is my name\n",
      "AI: Your name is guangyiliu.\n",
      "Human: 你好, 我叫王熠明\n",
      "AI: 你好，王熠明！很高兴认识你。有什么我可以帮助你的吗？\n",
      "Human: What is 1+1?\n",
      "AI: 1 + 1 equals 2.\n",
      "Human: 1+1等于多少？\n",
      "AI: 1 + 1 等于 2。\n",
      "Human: What is my name?\n",
      "AI:\u001b[0m\n",
      "\n",
      "\u001b[1m> Finished chain.\u001b[0m\n"
     ]
    },
    {
     "data": {
      "text/plain": [
       "'Your name is 王熠明.'"
      ]
     },
     "execution_count": 22,
     "metadata": {},
     "output_type": "execute_result"
    }
   ],
   "source": [
    "conversation.predict(input=\"What is my name?\")"
   ]
  },
  {
   "cell_type": "code",
   "execution_count": 23,
   "id": "2206e5b7",
   "metadata": {},
   "outputs": [
    {
     "name": "stdout",
     "output_type": "stream",
     "text": [
      "\n",
      "\n",
      "\u001b[1m> Entering new ConversationChain chain...\u001b[0m\n",
      "Prompt after formatting:\n",
      "\u001b[32;1m\u001b[1;3mThe following is a friendly conversation between a human and an AI. The AI is talkative and provides lots of specific details from its context. If the AI does not know the answer to a question, it truthfully says it does not know.\n",
      "\n",
      "Current conversation:\n",
      "Human: Hi, my name is guangyiliu\n",
      "AI: Hello guangyiliu! It's nice to meet you. How can I assist you today?\n",
      "Human: Hi, my name is guangyiliu\n",
      "AI: Yes, you mentioned that already. It's nice to meet you, guangyiliu! How can I assist you today?\n",
      "Human: Hi, my name is guangyiliu\n",
      "AI: Yes, you've mentioned your name is guangyiliu a few times now. Is there something specific you'd like to know or discuss today?\n",
      "Human: 我叫啥\n",
      "AI: 对不起，我不知道你的名字是什么。可以告诉我吗？\n",
      "Human: what is my name\n",
      "AI: Your name is guangyiliu.\n",
      "Human: 你好, 我叫王熠明\n",
      "AI: 你好，王熠明！很高兴认识你。有什么我可以帮助你的吗？\n",
      "Human: What is 1+1?\n",
      "AI: 1 + 1 equals 2.\n",
      "Human: 1+1等于多少？\n",
      "AI: 1 + 1 等于 2。\n",
      "Human: What is my name?\n",
      "AI: Your name is 王熠明.\n",
      "Human: 我叫什么名字？\n",
      "AI:\u001b[0m\n",
      "\n",
      "\u001b[1m> Finished chain.\u001b[0m\n"
     ]
    },
    {
     "data": {
      "text/plain": [
       "'你的名字是王熠明。'"
      ]
     },
     "execution_count": 23,
     "metadata": {},
     "output_type": "execute_result"
    }
   ],
   "source": [
    "#中文\n",
    "conversation.predict(input=\"我叫什么名字？\")"
   ]
  },
  {
   "attachments": {},
   "cell_type": "markdown",
   "id": "5a96a8d9",
   "metadata": {},
   "source": [
    "### 5.memory.buffer存储了当前为止所有的对话信息"
   ]
  },
  {
   "cell_type": "code",
   "execution_count": 24,
   "id": "2529400d",
   "metadata": {
    "height": 31
   },
   "outputs": [
    {
     "name": "stdout",
     "output_type": "stream",
     "text": [
      "Human: Hi, my name is guangyiliu\n",
      "AI: Hello guangyiliu! It's nice to meet you. How can I assist you today?\n",
      "Human: Hi, my name is guangyiliu\n",
      "AI: Yes, you mentioned that already. It's nice to meet you, guangyiliu! How can I assist you today?\n",
      "Human: Hi, my name is guangyiliu\n",
      "AI: Yes, you've mentioned your name is guangyiliu a few times now. Is there something specific you'd like to know or discuss today?\n",
      "Human: 我叫啥\n",
      "AI: 对不起，我不知道你的名字是什么。可以告诉我吗？\n",
      "Human: what is my name\n",
      "AI: Your name is guangyiliu.\n",
      "Human: 你好, 我叫王熠明\n",
      "AI: 你好，王熠明！很高兴认识你。有什么我可以帮助你的吗？\n",
      "Human: What is 1+1?\n",
      "AI: 1 + 1 equals 2.\n",
      "Human: 1+1等于多少？\n",
      "AI: 1 + 1 等于 2。\n",
      "Human: What is my name?\n",
      "AI: Your name is 王熠明.\n",
      "Human: 我叫什么名字？\n",
      "AI: 你的名字是王熠明。\n"
     ]
    }
   ],
   "source": [
    "print(memory.buffer)   #提取历史消息"
   ]
  },
  {
   "cell_type": "code",
   "execution_count": 25,
   "id": "d948aeb2",
   "metadata": {},
   "outputs": [
    {
     "name": "stdout",
     "output_type": "stream",
     "text": [
      "Human: Hi, my name is guangyiliu\n",
      "AI: Hello guangyiliu! It's nice to meet you. How can I assist you today?\n",
      "Human: Hi, my name is guangyiliu\n",
      "AI: Yes, you mentioned that already. It's nice to meet you, guangyiliu! How can I assist you today?\n",
      "Human: Hi, my name is guangyiliu\n",
      "AI: Yes, you've mentioned your name is guangyiliu a few times now. Is there something specific you'd like to know or discuss today?\n",
      "Human: 我叫啥\n",
      "AI: 对不起，我不知道你的名字是什么。可以告诉我吗？\n",
      "Human: what is my name\n",
      "AI: Your name is guangyiliu.\n",
      "Human: 你好, 我叫王熠明\n",
      "AI: 你好，王熠明！很高兴认识你。有什么我可以帮助你的吗？\n",
      "Human: What is 1+1?\n",
      "AI: 1 + 1 equals 2.\n",
      "Human: 1+1等于多少？\n",
      "AI: 1 + 1 等于 2。\n",
      "Human: What is my name?\n",
      "AI: Your name is 王熠明.\n",
      "Human: 我叫什么名字？\n",
      "AI: 你的名字是王熠明。\n"
     ]
    }
   ],
   "source": [
    "# 中文\n",
    "print(memory.buffer)   #提取历史消息"
   ]
  },
  {
   "attachments": {},
   "cell_type": "markdown",
   "id": "6bd222c3",
   "metadata": {},
   "source": [
    "### 6.也可以通过memory.load_memory_variables({})打印历史消息"
   ]
  },
  {
   "attachments": {},
   "cell_type": "markdown",
   "id": "0b5de846",
   "metadata": {},
   "source": [
    "这里的花括号实际上是一个空字典，有一些更高级的功能，使用户可以使用更复杂的输入，但我们不会在这个短期课程中讨论它们，所以不要担心为什么这里有一个空的花括号。"
   ]
  },
  {
   "cell_type": "code",
   "execution_count": 26,
   "id": "5018cb0a",
   "metadata": {
    "height": 31
   },
   "outputs": [
    {
     "data": {
      "text/plain": [
       "{'history': \"Human: Hi, my name is guangyiliu\\nAI: Hello guangyiliu! It's nice to meet you. How can I assist you today?\\nHuman: Hi, my name is guangyiliu\\nAI: Yes, you mentioned that already. It's nice to meet you, guangyiliu! How can I assist you today?\\nHuman: Hi, my name is guangyiliu\\nAI: Yes, you've mentioned your name is guangyiliu a few times now. Is there something specific you'd like to know or discuss today?\\nHuman: 我叫啥\\nAI: 对不起，我不知道你的名字是什么。可以告诉我吗？\\nHuman: what is my name\\nAI: Your name is guangyiliu.\\nHuman: 你好, 我叫王熠明\\nAI: 你好，王熠明！很高兴认识你。有什么我可以帮助你的吗？\\nHuman: What is 1+1?\\nAI: 1 + 1 equals 2.\\nHuman: 1+1等于多少？\\nAI: 1 + 1 等于 2。\\nHuman: What is my name?\\nAI: Your name is 王熠明.\\nHuman: 我叫什么名字？\\nAI: 你的名字是王熠明。\"}"
      ]
     },
     "execution_count": 26,
     "metadata": {},
     "output_type": "execute_result"
    }
   ],
   "source": [
    "memory.load_memory_variables({})"
   ]
  },
  {
   "cell_type": "code",
   "execution_count": 27,
   "id": "af4b8b12",
   "metadata": {},
   "outputs": [
    {
     "data": {
      "text/plain": [
       "{'history': \"Human: Hi, my name is guangyiliu\\nAI: Hello guangyiliu! It's nice to meet you. How can I assist you today?\\nHuman: Hi, my name is guangyiliu\\nAI: Yes, you mentioned that already. It's nice to meet you, guangyiliu! How can I assist you today?\\nHuman: Hi, my name is guangyiliu\\nAI: Yes, you've mentioned your name is guangyiliu a few times now. Is there something specific you'd like to know or discuss today?\\nHuman: 我叫啥\\nAI: 对不起，我不知道你的名字是什么。可以告诉我吗？\\nHuman: what is my name\\nAI: Your name is guangyiliu.\\nHuman: 你好, 我叫王熠明\\nAI: 你好，王熠明！很高兴认识你。有什么我可以帮助你的吗？\\nHuman: What is 1+1?\\nAI: 1 + 1 equals 2.\\nHuman: 1+1等于多少？\\nAI: 1 + 1 等于 2。\\nHuman: What is my name?\\nAI: Your name is 王熠明.\\nHuman: 我叫什么名字？\\nAI: 你的名字是王熠明。\"}"
      ]
     },
     "execution_count": 27,
     "metadata": {},
     "output_type": "execute_result"
    }
   ],
   "source": [
    "# 中文\n",
    "memory.load_memory_variables({})"
   ]
  },
  {
   "attachments": {},
   "cell_type": "markdown",
   "id": "07d2e892",
   "metadata": {},
   "source": [
    "### 7.添加指定的输入输出内容到记忆缓存区"
   ]
  },
  {
   "cell_type": "code",
   "execution_count": 28,
   "id": "14219b70",
   "metadata": {
    "height": 31
   },
   "outputs": [],
   "source": [
    "memory = ConversationBufferMemory()  #新建一个空的对话缓存记忆"
   ]
  },
  {
   "cell_type": "code",
   "execution_count": 29,
   "id": "a36e9905",
   "metadata": {
    "height": 48
   },
   "outputs": [],
   "source": [
    "memory.save_context({\"input\": \"Hi\"},    #向缓存区添加指定对话的输入输出\n",
    "                    {\"output\": \"What's up\"})"
   ]
  },
  {
   "cell_type": "code",
   "execution_count": 30,
   "id": "61631b1f",
   "metadata": {
    "height": 31
   },
   "outputs": [
    {
     "name": "stdout",
     "output_type": "stream",
     "text": [
      "Human: Hi\n",
      "AI: What's up\n"
     ]
    }
   ],
   "source": [
    "print(memory.buffer)   #查看缓存区结果"
   ]
  },
  {
   "cell_type": "code",
   "execution_count": 31,
   "id": "a2fdf9ec",
   "metadata": {
    "height": 31
   },
   "outputs": [
    {
     "data": {
      "text/plain": [
       "{'history': \"Human: Hi\\nAI: What's up\"}"
      ]
     },
     "execution_count": 31,
     "metadata": {},
     "output_type": "execute_result"
    }
   ],
   "source": [
    "memory.load_memory_variables({})  #再次加载记忆变量"
   ]
  },
  {
   "cell_type": "code",
   "execution_count": 33,
   "id": "27d8dd2f",
   "metadata": {},
   "outputs": [
    {
     "data": {
      "text/plain": [
       "{'history': 'Human: 你好，我叫皮皮鲁\\nAI: 你好啊，我叫鲁西西'}"
      ]
     },
     "execution_count": 33,
     "metadata": {},
     "output_type": "execute_result"
    }
   ],
   "source": [
    "#中文\n",
    "memory = ConversationBufferMemory()\n",
    "memory.save_context({\"input\": \"你好，我叫皮皮鲁\"}, \n",
    "                    {\"output\": \"你好啊，我叫鲁西西\"})\n",
    "memory.load_memory_variables({})"
   ]
  },
  {
   "attachments": {},
   "cell_type": "markdown",
   "id": "2ac544f2",
   "metadata": {},
   "source": [
    "继续添加新的内容，对话历史都保存下来在了！"
   ]
  },
  {
   "cell_type": "code",
   "execution_count": 34,
   "id": "7ca79256",
   "metadata": {
    "height": 64
   },
   "outputs": [],
   "source": [
    "memory.save_context({\"input\": \"Not much, just hanging\"}, \n",
    "                    {\"output\": \"Cool\"})"
   ]
  },
  {
   "cell_type": "code",
   "execution_count": 35,
   "id": "890a4497",
   "metadata": {
    "height": 31
   },
   "outputs": [
    {
     "data": {
      "text/plain": [
       "{'history': 'Human: 你好，我叫皮皮鲁\\nAI: 你好啊，我叫鲁西西\\nHuman: Not much, just hanging\\nAI: Cool'}"
      ]
     },
     "execution_count": 35,
     "metadata": {},
     "output_type": "execute_result"
    }
   ],
   "source": [
    "memory.load_memory_variables({})"
   ]
  },
  {
   "cell_type": "code",
   "execution_count": 36,
   "id": "2b614406",
   "metadata": {},
   "outputs": [
    {
     "data": {
      "text/plain": [
       "{'history': 'Human: 你好，我叫皮皮鲁\\nAI: 你好啊，我叫鲁西西\\nHuman: Not much, just hanging\\nAI: Cool\\nHuman: 很高兴和你成为朋友！\\nAI: 是的，让我们一起去冒险吧！'}"
      ]
     },
     "execution_count": 36,
     "metadata": {},
     "output_type": "execute_result"
    }
   ],
   "source": [
    "#中文\n",
    "memory.save_context({\"input\": \"很高兴和你成为朋友！\"}, \n",
    "                    {\"output\": \"是的，让我们一起去冒险吧！\"})\n",
    "memory.load_memory_variables({})"
   ]
  },
  {
   "attachments": {},
   "cell_type": "markdown",
   "id": "8839314a",
   "metadata": {},
   "source": [
    "当我们在使用大型语言模型进行聊天对话时，**大型语言模型本身实际上是无状态的。语言模型本身并不记得到目前为止的历史对话**。每次调用API结点都是独立的。\n",
    "\n",
    "**聊天机器人似乎有记忆，只是因为通常有快速的代码可以向LLM提供迄今为止的完整对话以及上下文。因此，Memory可以明确地存储到目前为止的所有术语或对话。这个Memory存储器被用作输入或附加上下文到LLM中，以便它可以生成一个输出，就好像它只有在进行下一轮对话的时候，才知道之前说过什么。**\n",
    "\n"
   ]
  },
  {
   "attachments": {},
   "cell_type": "markdown",
   "id": "cf98e9ff",
   "metadata": {},
   "source": [
    "## ConversationBufferWindowMemory（对话缓存窗口记忆）\n",
    "  \n",
    "随着对话变得越来越长，所需的内存量也变得非常长。将大量的tokens发送到LLM的成本，也会变得更加昂贵,这也就是为什么API的调用费用，通常是基于它需要处理的tokens数量而收费的。\n",
    "  \n",
    "针对以上问题，LangChain也提供了几种方便的memory来保存历史对话。\n",
    "其中，对话缓存窗口记忆只保留一个窗口大小的对话缓存区窗口记忆。它只使用最近的n次交互。这可以用于保持最近交互的滑动窗口，以便缓冲区不会过大"
   ]
  },
  {
   "cell_type": "code",
   "execution_count": 37,
   "id": "66eeccc3",
   "metadata": {
    "height": 47
   },
   "outputs": [],
   "source": [
    "from langchain.memory import ConversationBufferWindowMemory"
   ]
  },
  {
   "attachments": {},
   "cell_type": "markdown",
   "id": "641477a4",
   "metadata": {},
   "source": [
    "### 1.向memory添加两轮对话，并查看记忆变量当前的记录"
   ]
  },
  {
   "cell_type": "code",
   "execution_count": 43,
   "id": "3ea6233e",
   "metadata": {
    "height": 47
   },
   "outputs": [],
   "source": [
    "memory = ConversationBufferWindowMemory(k=2)     # k=1表明只保留一个对话记忆        "
   ]
  },
  {
   "cell_type": "code",
   "execution_count": 44,
   "id": "dc4553fb",
   "metadata": {
    "height": 115
   },
   "outputs": [],
   "source": [
    "memory.save_context({\"input\": \"Hi\"},\n",
    "                    {\"output\": \"What's up\"})\n",
    "memory.save_context({\"input\": \"Not much, just hanging\"},\n",
    "                    {\"output\": \"Cool\"})\n"
   ]
  },
  {
   "cell_type": "code",
   "execution_count": 45,
   "id": "6a788403",
   "metadata": {
    "height": 31
   },
   "outputs": [
    {
     "data": {
      "text/plain": [
       "{'history': \"Human: Hi\\nAI: What's up\\nHuman: Not much, just hanging\\nAI: Cool\"}"
      ]
     },
     "execution_count": 45,
     "metadata": {},
     "output_type": "execute_result"
    }
   ],
   "source": [
    "memory.load_memory_variables({})"
   ]
  },
  {
   "attachments": {},
   "cell_type": "markdown",
   "id": "9b401f0b",
   "metadata": {},
   "source": [
    "### 2.在看一个例子，发现和上面的结果一样，只保留了一轮对话记忆"
   ]
  },
  {
   "cell_type": "code",
   "execution_count": 46,
   "id": "68a2907c",
   "metadata": {},
   "outputs": [
    {
     "data": {
      "text/plain": [
       "{'history': 'Human: 很高兴和你成为朋友！\\nAI: 是的，让我们一起去冒险吧！'}"
      ]
     },
     "execution_count": 46,
     "metadata": {},
     "output_type": "execute_result"
    }
   ],
   "source": [
    "#中文\n",
    "memory = ConversationBufferWindowMemory(k=1)     # k=1表明只保留一个对话记忆        \n",
    "memory.save_context({\"input\": \"你好，我叫皮皮鲁\"}, \n",
    "                    {\"output\": \"你好啊，我叫鲁西西\"})\n",
    "memory.save_context({\"input\": \"很高兴和你成为朋友！\"}, \n",
    "                    {\"output\": \"是的，让我们一起去冒险吧！\"})\n",
    "memory.load_memory_variables({})"
   ]
  },
  {
   "attachments": {},
   "cell_type": "markdown",
   "id": "63bda148",
   "metadata": {},
   "source": [
    "### 3.将对话缓存窗口记忆应用到对话链中"
   ]
  },
  {
   "cell_type": "code",
   "execution_count": 47,
   "id": "4087bc87",
   "metadata": {
    "height": 133
   },
   "outputs": [],
   "source": [
    "import os\n",
    "OPENAI_API_KEY = os.environ.get('OPENAI_API_KEY')         #\"填入你的专属的API key\"\n",
    "llm = ChatOpenAI(temperature=0.0,openai_api_key=OPENAI_API_KEY)\n",
    "memory = ConversationBufferWindowMemory(k=1)\n",
    "conversation = ConversationChain(  \n",
    "    llm=llm, \n",
    "    memory = memory,\n",
    "    verbose=False    #这里改为FALSE不显示提示，你可以尝试修改为TRUE后的结果\n",
    ")"
   ]
  },
  {
   "attachments": {},
   "cell_type": "markdown",
   "id": "b6d661e3",
   "metadata": {},
   "source": [
    "注意此处！由于这里用的是一个窗口的记忆，因此只能保存一轮的历史消息，因此AI并不能知道你第一轮对话中提到的名字，他最多只能记住上一轮（第二轮）的对话信息"
   ]
  },
  {
   "cell_type": "code",
   "execution_count": 48,
   "id": "4faaa952",
   "metadata": {
    "height": 47
   },
   "outputs": [
    {
     "data": {
      "text/plain": [
       "\"Hello Andrew! It's nice to meet you. How can I assist you today?\""
      ]
     },
     "execution_count": 48,
     "metadata": {},
     "output_type": "execute_result"
    }
   ],
   "source": [
    "conversation.predict(input=\"Hi, my name is Andrew\")"
   ]
  },
  {
   "cell_type": "code",
   "execution_count": 50,
   "id": "bb20ddaa",
   "metadata": {
    "height": 31
   },
   "outputs": [
    {
     "data": {
      "text/plain": [
       "'1+1 equals 2. Is there anything else you would like to know?'"
      ]
     },
     "execution_count": 50,
     "metadata": {},
     "output_type": "execute_result"
    }
   ],
   "source": [
    "conversation.predict(input=\"What is 1+1?\")"
   ]
  },
  {
   "cell_type": "code",
   "execution_count": 51,
   "id": "489b2194",
   "metadata": {
    "height": 31
   },
   "outputs": [
    {
     "data": {
      "text/plain": [
       "\"I'm sorry, I do not have access to personal information such as your name. Is there anything else you would like to ask?\""
      ]
     },
     "execution_count": 51,
     "metadata": {},
     "output_type": "execute_result"
    }
   ],
   "source": [
    "conversation.predict(input=\"What is my name?\")"
   ]
  },
  {
   "attachments": {},
   "cell_type": "markdown",
   "id": "a1080168",
   "metadata": {},
   "source": [
    "再看一个例子，发现和上面的结果一样！"
   ]
  },
  {
   "cell_type": "code",
   "execution_count": 52,
   "id": "1ee854d9",
   "metadata": {},
   "outputs": [
    {
     "data": {
      "text/plain": [
       "'抱歉，我无法回答你的名字是什么，因为我没有这方面的信息。你可以告诉我你的名字吗？我可以帮你记住。'"
      ]
     },
     "execution_count": 52,
     "metadata": {},
     "output_type": "execute_result"
    }
   ],
   "source": [
    "#中文\n",
    "conversation.predict(input=\"你好, 我叫皮皮鲁\")\n",
    "conversation.predict(input=\"1+1等于多少？\")\n",
    "conversation.predict(input=\"我叫什么名字？\")"
   ]
  },
  {
   "attachments": {},
   "cell_type": "markdown",
   "id": "d2931b92",
   "metadata": {},
   "source": [
    "## ConversationTokenBufferMemory（对话token缓存记忆）"
   ]
  },
  {
   "attachments": {},
   "cell_type": "markdown",
   "id": "dff5b4c7",
   "metadata": {},
   "source": [
    "使用对话token缓存记忆，内存将限制保存的token数量。如果token数量超出指定数目，它会切掉这个对话的早期部分\n",
    "以保留与最近的交流相对应的token数量，但不超过token限制。"
   ]
  },
  {
   "cell_type": "code",
   "execution_count": 31,
   "id": "9f6d063c",
   "metadata": {
    "height": 31
   },
   "outputs": [],
   "source": [
    "#需要用到tiktoken包，没有的可以先安装一下\n",
    "#!pip install tiktoken            "
   ]
  },
  {
   "attachments": {},
   "cell_type": "markdown",
   "id": "2187cfe6",
   "metadata": {},
   "source": [
    "### 1.导入相关包和API密钥"
   ]
  },
  {
   "cell_type": "code",
   "execution_count": 60,
   "id": "fb9020ed",
   "metadata": {
    "height": 81
   },
   "outputs": [],
   "source": [
    "from langchain.memory import ConversationTokenBufferMemory\n",
    "from langchain.llms import OpenAI\n",
    "\n",
    "import os\n",
    "OPENAI_API_KEY = os.environ.get('OPENAI_API_KEY')        #\"填入你的专属的API key\"\n",
    "llm = ChatOpenAI(temperature=0.0,openai_api_key=OPENAI_API_KEY)"
   ]
  },
  {
   "attachments": {},
   "cell_type": "markdown",
   "id": "f3a84112",
   "metadata": {},
   "source": [
    "### 2.限制token数量，进行测试"
   ]
  },
  {
   "cell_type": "code",
   "execution_count": 63,
   "id": "43582ee6",
   "metadata": {
    "height": 149,
    "scrolled": true
   },
   "outputs": [],
   "source": [
    "memory = ConversationTokenBufferMemory(llm=llm, max_token_limit=15)\n",
    "memory.save_context({\"input\": \"a AI is what?!\"},\n",
    "                    {\"output\": \"Amazing!\"})\n",
    "memory.save_context({\"input\": \"Backpropagation is what?\"},\n",
    "                    {\"output\": \"Beautiful!\"})\n",
    "memory.save_context({\"input\": \"Chatbots are what?\"}, \n",
    "                    {\"output\": \"Charming!\"})"
   ]
  },
  {
   "attachments": {},
   "cell_type": "markdown",
   "id": "7b62b2e1",
   "metadata": {},
   "source": [
    "可以看到前面超出的的token已经被舍弃了！！！"
   ]
  },
  {
   "cell_type": "code",
   "execution_count": 64,
   "id": "284288e1",
   "metadata": {
    "height": 31
   },
   "outputs": [
    {
     "data": {
      "text/plain": [
       "{'history': 'AI: Charming!'}"
      ]
     },
     "execution_count": 64,
     "metadata": {},
     "output_type": "execute_result"
    }
   ],
   "source": [
    "memory.load_memory_variables({})"
   ]
  },
  {
   "attachments": {},
   "cell_type": "markdown",
   "id": "f7f6be43",
   "metadata": {},
   "source": [
    "### 3.在看一个中文例子"
   ]
  },
  {
   "cell_type": "code",
   "execution_count": 82,
   "id": "e9191020",
   "metadata": {},
   "outputs": [
    {
     "data": {
      "text/plain": [
       "{'history': 'Human: 朝辞白帝彩云间，++++++++++++++++++++++++\\nAI: 千里江陵一日还。++++++++++++++++++++++++\\nHuman: 两岸猿声啼不住，++++++++++++++++++++++++\\nAI: 轻舟已过万重山。++++++++++++++++++++++++'}"
      ]
     },
     "execution_count": 82,
     "metadata": {},
     "output_type": "execute_result"
    }
   ],
   "source": [
    "memory = ConversationTokenBufferMemory(llm=llm, max_token_limit=100)\n",
    "memory.save_context({\"input\": \"朝辞白帝彩云间，++++++++++++++++++++++++\"},  \n",
    "                    {\"output\": \"千里江陵一日还。++++++++++++++++++++++++\"})\n",
    "memory.save_context({\"input\": \"两岸猿声啼不住，++++++++++++++++++++++++\"},\n",
    "                    {\"output\": \"轻舟已过万重山。++++++++++++++++++++++++\"})\n",
    "memory.load_memory_variables({})"
   ]
  },
  {
   "attachments": {},
   "cell_type": "markdown",
   "id": "5e4d918b",
   "metadata": {},
   "source": [
    "补充：  \n",
    "\n",
    "ChatGPT使用一种基于字节对编码（Byte Pair Encoding，BPE）的方法来进行tokenization（将输入文本拆分为token）。  \n",
    "BPE是一种常见的tokenization技术，它将输入文本分割成较小的子词单元。 \n",
    "\n",
    "OpenAI在其官方GitHub上公开了一个最新的开源Python库：tiktoken，这个库主要是用来计算tokens数量的。相比较Hugging Face的tokenizer，其速度提升了好几倍 <https://github.com/openai/tiktoken>\n",
    "\n",
    "具体token计算方式,特别是汉字和英文单词的token区别，参考 <https://www.zhihu.com/question/594159910>\n"
   ]
  },
  {
   "attachments": {},
   "cell_type": "markdown",
   "id": "5ff55d5d",
   "metadata": {},
   "source": [
    "## ConversationSummaryBufferMemory（对话摘要缓存记忆）"
   ]
  },
  {
   "attachments": {},
   "cell_type": "markdown",
   "id": "7d39b83a",
   "metadata": {},
   "source": [
    "这种Memory的想法是，不是将内存限制为基于最近对话的固定数量的token或固定数量的对话次数窗口，而是**使用LLM编写到目前为止历史对话的摘要**，并将其保存"
   ]
  },
  {
   "cell_type": "code",
   "execution_count": 83,
   "id": "72dcf8b1",
   "metadata": {
    "height": 64
   },
   "outputs": [],
   "source": [
    "from langchain.memory import ConversationSummaryBufferMemory\n",
    "from langchain.chat_models import ChatOpenAI\n",
    "from langchain.chains import ConversationChain"
   ]
  },
  {
   "cell_type": "code",
   "execution_count": 84,
   "id": "c11d81c5",
   "metadata": {},
   "outputs": [],
   "source": [
    "import os\n",
    "OPENAI_API_KEY = os.environ.get('OPENAI_API_KEY')     #\"填入你的专属的API key\"\n",
    "llm = ChatOpenAI(temperature=0.0,openai_api_key=OPENAI_API_KEY)"
   ]
  },
  {
   "attachments": {},
   "cell_type": "markdown",
   "id": "6572ef39",
   "metadata": {},
   "source": [
    "### 创建一个长字符串，其中包含某人的日程安排"
   ]
  },
  {
   "cell_type": "code",
   "execution_count": 85,
   "id": "4a5b238f",
   "metadata": {
    "height": 285
   },
   "outputs": [],
   "source": [
    "# create a long string\n",
    "schedule = \"There is a meeting at 8am with your product team. \\\n",
    "You will need your powerpoint presentation prepared. \\\n",
    "9am-12pm have time to work on your LangChain \\\n",
    "project which will go quickly because Langchain is such a powerful tool. \\\n",
    "At Noon, lunch at the italian resturant with a customer who is driving \\\n",
    "from over an hour away to meet you to understand the latest in AI. \\\n",
    "Be sure to bring your laptop to show the latest LLM demo.\"\n",
    "\n",
    "memory = ConversationSummaryBufferMemory(llm=llm, max_token_limit=100)   #使用对话摘要缓存记忆\n",
    "memory.save_context({\"input\": \"Hello\"}, {\"output\": \"What's up\"})\n",
    "memory.save_context({\"input\": \"Not much, just hanging\"},\n",
    "                    {\"output\": \"Cool\"})\n",
    "memory.save_context({\"input\": \"What is on the schedule today?\"}, \n",
    "                    {\"output\": f\"{schedule}\"})"
   ]
  },
  {
   "cell_type": "code",
   "execution_count": 86,
   "id": "2e4ecabe",
   "metadata": {
    "height": 31
   },
   "outputs": [
    {
     "data": {
      "text/plain": [
       "{'history': 'System: The human and AI exchange greetings and discuss the schedule for the day, including a meeting with the product team, work on the LangChain project, and a lunch meeting with a customer interested in AI.'}"
      ]
     },
     "execution_count": 86,
     "metadata": {},
     "output_type": "execute_result"
    }
   ],
   "source": [
    "memory.load_memory_variables({})"
   ]
  },
  {
   "attachments": {},
   "cell_type": "markdown",
   "id": "7ccb97b6",
   "metadata": {},
   "source": [
    "### 基于上面的memory，新建一个对话链"
   ]
  },
  {
   "cell_type": "code",
   "execution_count": 87,
   "id": "6728edba",
   "metadata": {
    "height": 99
   },
   "outputs": [],
   "source": [
    "conversation = ConversationChain(  \n",
    "    llm=llm, \n",
    "    memory = memory,\n",
    "    verbose=True\n",
    ")"
   ]
  },
  {
   "cell_type": "code",
   "execution_count": 88,
   "id": "9a221b1d",
   "metadata": {
    "height": 47
   },
   "outputs": [
    {
     "name": "stdout",
     "output_type": "stream",
     "text": [
      "\n",
      "\n",
      "\u001b[1m> Entering new ConversationChain chain...\u001b[0m\n",
      "Prompt after formatting:\n",
      "\u001b[32;1m\u001b[1;3mThe following is a friendly conversation between a human and an AI. The AI is talkative and provides lots of specific details from its context. If the AI does not know the answer to a question, it truthfully says it does not know.\n",
      "\n",
      "Current conversation:\n",
      "System: The human and AI exchange greetings and discuss the schedule for the day, including a meeting with the product team, work on the LangChain project, and a lunch meeting with a customer interested in AI.\n",
      "Human: What would be a good demo to show?\n",
      "AI:\u001b[0m\n",
      "\n",
      "\u001b[1m> Finished chain.\u001b[0m\n"
     ]
    },
    {
     "data": {
      "text/plain": [
       "\"For the meeting with the product team, a good demo to show would be the latest prototype of the LangChain project. It showcases the progress we've made in developing a language processing algorithm that can accurately translate multiple languages in real-time. Additionally, we could demonstrate the user interface and how easy it is to use for both developers and end-users. This would give the product team a clear understanding of the project's potential and how it aligns with our company's goals.\""
      ]
     },
     "execution_count": 88,
     "metadata": {},
     "output_type": "execute_result"
    }
   ],
   "source": [
    "conversation.predict(input=\"What would be a good demo to show?\")"
   ]
  },
  {
   "cell_type": "code",
   "execution_count": 89,
   "id": "bb582617",
   "metadata": {
    "height": 31
   },
   "outputs": [
    {
     "data": {
      "text/plain": [
       "{'history': \"System: The human and AI exchange greetings and discuss the schedule for the day, including a meeting with the product team, work on the LangChain project, and a lunch meeting with a customer interested in AI. For the meeting with the product team, the AI suggests showcasing the latest prototype of the LangChain project to demonstrate the progress made in developing a language processing algorithm. This demo would highlight the project's potential and alignment with the company's goals.\"}"
      ]
     },
     "execution_count": 89,
     "metadata": {},
     "output_type": "execute_result"
    }
   ],
   "source": [
    "memory.load_memory_variables({})   #摘要记录更新了"
   ]
  },
  {
   "attachments": {},
   "cell_type": "markdown",
   "id": "4ba827aa",
   "metadata": {
    "height": 31
   },
   "source": [
    "### 中文"
   ]
  },
  {
   "cell_type": "code",
   "execution_count": 90,
   "id": "2c07922b",
   "metadata": {
    "height": 31
   },
   "outputs": [],
   "source": [
    "# 创建一个长字符串\n",
    "schedule = \"在八点你和你的产品团队有一个会议。 \\\n",
    "你需要做一个PPT。 \\\n",
    "上午9点到12点你需要忙于LangChain。\\\n",
    "Langchain是一个有用的工具，因此你的项目进展的非常快。\\\n",
    "中午，在意大利餐厅与一位开车来的顾客共进午餐 \\\n",
    "走了一个多小时的路程与你见面，只为了解最新的 AI。 \\\n",
    "确保你带了笔记本电脑可以展示最新的 LLM 样例.\"\n",
    "\n",
    "memory = ConversationSummaryBufferMemory(llm=llm, max_token_limit=100)\n",
    "memory.save_context({\"input\": \"你好，我叫皮皮鲁\"}, \n",
    "                    {\"output\": \"你好啊，我叫鲁西西\"})\n",
    "memory.save_context({\"input\": \"很高兴和你成为朋友！\"}, \n",
    "                    {\"output\": \"是的，让我们一起去冒险吧！\"})\n",
    "memory.save_context({\"input\": \"今天的日程安排是什么？\"}, \n",
    "                    {\"output\": f\"{schedule}\"})"
   ]
  },
  {
   "cell_type": "code",
   "execution_count": 91,
   "id": "52696c8c",
   "metadata": {
    "height": 31
   },
   "outputs": [],
   "source": [
    "conversation = ConversationChain(  \n",
    "    llm=llm, \n",
    "    memory = memory,\n",
    "    verbose=True\n",
    ")"
   ]
  },
  {
   "cell_type": "code",
   "execution_count": 92,
   "id": "48690d13",
   "metadata": {
    "height": 31
   },
   "outputs": [
    {
     "name": "stdout",
     "output_type": "stream",
     "text": [
      "\n",
      "\n",
      "\u001b[1m> Entering new ConversationChain chain...\u001b[0m\n",
      "Prompt after formatting:\n",
      "\u001b[32;1m\u001b[1;3mThe following is a friendly conversation between a human and an AI. The AI is talkative and provides lots of specific details from its context. If the AI does not know the answer to a question, it truthfully says it does not know.\n",
      "\n",
      "Current conversation:\n",
      "System: The human and AI introduce themselves in Chinese and become friends. They plan their day, including a meeting with the product team, working on LangChain, and having lunch with a customer interested in AI. The AI emphasizes the importance of being prepared to showcase the latest LLM examples.\n",
      "Human: 展示什么样的样例最好呢？\n",
      "AI:\u001b[0m\n",
      "\n",
      "\u001b[1m> Finished chain.\u001b[0m\n"
     ]
    },
    {
     "data": {
      "text/plain": [
       "'最好展示一些涉及自然语言处理和语言生成的例子，比如文本摘要、对话生成和情感分析。这些示例可以展示LangChain在处理自然语言任务方面的强大能力。您觉得这些例子如何？'"
      ]
     },
     "execution_count": 92,
     "metadata": {},
     "output_type": "execute_result"
    }
   ],
   "source": [
    "conversation.predict(input=\"展示什么样的样例最好呢？\")"
   ]
  },
  {
   "cell_type": "code",
   "execution_count": 46,
   "id": "85bba1f8",
   "metadata": {
    "height": 31
   },
   "outputs": [
    {
     "data": {
      "text/plain": [
       "{'history': 'System: The human and AI become friends and plan to go on an adventure together. The AI provides a detailed itinerary for the day, including a meeting with their product team, working on LangChain, and having lunch with a customer interested in AI. The AI suggests showcasing their latest language models, including ones for Chinese, Spanish, and Arabic, which excel in natural language processing.'}"
      ]
     },
     "execution_count": 46,
     "metadata": {},
     "output_type": "execute_result"
    }
   ],
   "source": [
    "memory.load_memory_variables({})   #摘要记录更新了"
   ]
  },
  {
   "cell_type": "code",
   "execution_count": null,
   "id": "69481a13",
   "metadata": {},
   "outputs": [],
   "source": []
  }
 ],
 "metadata": {
  "kernelspec": {
   "display_name": "Python 3 (ipykernel)",
   "language": "python",
   "name": "python3"
  },
  "language_info": {
   "codemirror_mode": {
    "name": "ipython",
    "version": 3
   },
   "file_extension": ".py",
   "mimetype": "text/x-python",
   "name": "python",
   "nbconvert_exporter": "python",
   "pygments_lexer": "ipython3",
   "version": "3.9.19"
  }
 },
 "nbformat": 4,
 "nbformat_minor": 5
}
